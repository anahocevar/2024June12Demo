{
 "cells": [
  {
   "cell_type": "markdown",
   "metadata": {},
   "source": [
    "# Data Analysis using Python and Pandas"
   ]
  },
  {
   "cell_type": "markdown",
   "metadata": {},
   "source": [
    "During this session, we will go through the correct solutions of data wrangling questions from a previous bootcamp pre-assessment. Let's first load the data."
   ]
  },
  {
   "cell_type": "code",
   "execution_count": null,
   "metadata": {},
   "outputs": [],
   "source": [
    "!wget -nc https://dataincubator-course.s3.amazonaws.com/BP/Electric_Consumption_2010-2023_Foundational.csv"
   ]
  },
  {
   "cell_type": "markdown",
   "metadata": {},
   "source": [
    "This is a data set that contains monthly electricity consumption of several New York City buildings. The data set contains information about consumption, cost, borough information, utility vendor, meter information and more. "
   ]
  },
  {
   "cell_type": "code",
   "execution_count": null,
   "metadata": {},
   "outputs": [],
   "source": [
    "import pandas as pd"
   ]
  },
  {
   "cell_type": "code",
   "execution_count": null,
   "metadata": {},
   "outputs": [],
   "source": [
    "df = pd.read_csv('Electric_Consumption_2010-2023_Foundational.csv')"
   ]
  },
  {
   "cell_type": "code",
   "execution_count": null,
   "metadata": {},
   "outputs": [],
   "source": [
    "df.head()"
   ]
  },
  {
   "cell_type": "markdown",
   "metadata": {},
   "source": [
    "### 1\n",
    "\n",
    "Which New York City borough has the most measurements in this data set? What percentage of measurements are from this borough? The borough is recorded under column \"Borough\". Write your answer in the form of `borough name, percentage`."
   ]
  },
  {
   "cell_type": "code",
   "execution_count": null,
   "metadata": {},
   "outputs": [],
   "source": [
    "by_borough = df['Borough'].value_counts(normalize=True)\n",
    "by_borough.idxmax(), by_borough.max()*100"
   ]
  },
  {
   "cell_type": "markdown",
   "metadata": {},
   "source": [
    "### 2\n",
    "What is the average total charge, if you only include measurements with vendor name \"NEW YORK POWER AUTHORITY\"? \n",
    "The total charge value is recorded under column \"Total Charges\" and the vendor name is recorded under column \"Vendor Name\"."
   ]
  },
  {
   "cell_type": "code",
   "execution_count": null,
   "metadata": {},
   "outputs": [],
   "source": [
    "df.loc[df['Vendor Name']=='NEW YORK POWER AUTHORITY', 'Total Charges'].mean()"
   ]
  },
  {
   "cell_type": "markdown",
   "metadata": {},
   "source": [
    "### 3\n",
    "\n",
    "Consider only measurements in Manhattan. For each account name find the average of the total charges. What is the account with the largest average? Submit the average of the total charges for this account.\n",
    "The borough is recorded under column \"Borough\", the account name is in column \"Account Name\" and the total charge value is recorded under column \"Total Charges\"."
   ]
  },
  {
   "cell_type": "code",
   "execution_count": null,
   "metadata": {},
   "outputs": [],
   "source": [
    "df_manhattan = df[df['Borough']=='MANHATTAN']\n",
    "df_manhattan.groupby('Account Name')['Total Charges'].mean().max()"
   ]
  },
  {
   "cell_type": "markdown",
   "metadata": {},
   "source": [
    "### 4\n",
    "\n",
    "For each account name compute the percentage of observations where the total charges are greater than 20000. Find the account name that has the largest such percentage. What is the average of \"Other charges\" for this account? The account name is in column \"Account Name\", the total charge value is recorded under column \"Total Charges\" and the other charges are in column \"Other charges\"."
   ]
  },
  {
   "cell_type": "code",
   "execution_count": null,
   "metadata": {},
   "outputs": [],
   "source": [
    "def perc(df):\n",
    "    return (df['Total Charges']>20000).mean()*100"
   ]
  },
  {
   "cell_type": "code",
   "execution_count": null,
   "metadata": {},
   "outputs": [],
   "source": [
    "largest_spender = df.groupby('Account Name').apply(perc).idxmax()"
   ]
  },
  {
   "cell_type": "code",
   "execution_count": null,
   "metadata": {},
   "outputs": [],
   "source": [
    "df.loc[df['Account Name'] == largest_spender, 'Other charges'].mean()"
   ]
  },
  {
   "cell_type": "markdown",
   "metadata": {},
   "source": [
    "### 5\n",
    "\n",
    "Which month of the year has the largest sum of total charges? The year and month of consumption are recorded under column \"Revenue Month\" and the total charge value is recorded under column \"Total Charges\"."
   ]
  },
  {
   "cell_type": "code",
   "execution_count": null,
   "metadata": {},
   "outputs": [],
   "source": [
    "df['Revenue Month Only'] = pd.to_datetime(df['Revenue Month'], format='%Y-%m').dt.month\n",
    "df.groupby(['Revenue Month Only'])['Total Charges'].sum().idxmax()"
   ]
  },
  {
   "cell_type": "markdown",
   "metadata": {},
   "source": [
    "*Copyright &copy; 2024 Pragmatic Institute. This content is licensed solely for personal use. Redistribution or publication of this material is strictly prohibited.*"
   ]
  }
 ],
 "metadata": {
  "kernelspec": {
   "display_name": "Python 3 (ipykernel)",
   "language": "python",
   "name": "python3"
  },
  "language_info": {
   "codemirror_mode": {
    "name": "ipython",
    "version": 3
   },
   "file_extension": ".py",
   "mimetype": "text/x-python",
   "name": "python",
   "nbconvert_exporter": "python",
   "pygments_lexer": "ipython3",
   "version": "3.11.6"
  }
 },
 "nbformat": 4,
 "nbformat_minor": 4
}
